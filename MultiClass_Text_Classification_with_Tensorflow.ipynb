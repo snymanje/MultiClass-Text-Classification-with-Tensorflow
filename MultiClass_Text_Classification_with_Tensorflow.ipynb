{
  "nbformat": 4,
  "nbformat_minor": 0,
  "metadata": {
    "colab": {
      "name": "MultiClass Text Classification with Tensorflow.ipynb",
      "provenance": [],
      "collapsed_sections": [],
      "mount_file_id": "1ei9hLEG16ujG_ZJ6h6uhjbOQv9S6TiSt",
      "authorship_tag": "ABX9TyMc7RNcTCPNE1reDni4KR4M",
      "include_colab_link": true
    },
    "kernelspec": {
      "name": "python3",
      "display_name": "Python 3"
    }
  },
  "cells": [
    {
      "cell_type": "markdown",
      "metadata": {
        "id": "view-in-github",
        "colab_type": "text"
      },
      "source": [
        "<a href=\"https://colab.research.google.com/github/snymanje/MultiClass-Text-Classification-with-Tensorflow/blob/master/MultiClass_Text_Classification_with_Tensorflow.ipynb\" target=\"_parent\"><img src=\"https://colab.research.google.com/assets/colab-badge.svg\" alt=\"Open In Colab\"/></a>"
      ]
    },
    {
      "cell_type": "markdown",
      "metadata": {
        "id": "H2IeYNyDLIVD",
        "colab_type": "text"
      },
      "source": [
        "## **Consumer Complaints Classification with Tensorflow**"
      ]
    },
    {
      "cell_type": "markdown",
      "metadata": {
        "id": "6bvaZm4qKI35",
        "colab_type": "text"
      },
      "source": [
        "Import the libraries and check Tensorflow version"
      ]
    },
    {
      "cell_type": "code",
      "metadata": {
        "id": "a8JZjmXljSQi",
        "colab_type": "code",
        "outputId": "4d8a20b1-75e5-4d98-fe1a-bb8542b2ebe8",
        "colab": {
          "base_uri": "https://localhost:8080/",
          "height": 102
        }
      },
      "source": [
        "import numpy as np\n",
        "import pandas as pd\n",
        "\n",
        "import tensorflow as tf\n",
        "from tensorflow.keras.preprocessing.text import Tokenizer\n",
        "from tensorflow.keras.preprocessing.sequence import pad_sequences\n",
        "from tensorflow.keras import Sequential\n",
        "from tensorflow.keras.layers import Flatten, Dense, Embedding, Conv1D, GlobalMaxPooling1D, Dropout\n",
        "from tensorflow.keras.callbacks import EarlyStopping, ReduceLROnPlateau\n",
        "\n",
        "from sklearn.metrics import accuracy_score, precision_score, recall_score, f1_score, confusion_matrix, classification_report\n",
        "from mlxtend.plotting import plot_confusion_matrix\n",
        "from sklearn.preprocessing import OneHotEncoder\n",
        "from sklearn.model_selection import train_test_split\n",
        "\n",
        "from nltk.stem import PorterStemmer\n",
        "import re\n",
        "import nltk\n",
        "nltk.download('stopwords')\n",
        "nltk.download('punkt')\n",
        "from nltk.corpus import stopwords\n",
        "\n",
        "import matplotlib.pyplot as plt\n",
        "import seaborn as sns\n",
        "\n",
        "print(tf.__version__)"
      ],
      "execution_count": 145,
      "outputs": [
        {
          "output_type": "stream",
          "text": [
            "[nltk_data] Downloading package stopwords to /root/nltk_data...\n",
            "[nltk_data]   Package stopwords is already up-to-date!\n",
            "[nltk_data] Downloading package punkt to /root/nltk_data...\n",
            "[nltk_data]   Package punkt is already up-to-date!\n",
            "2.2.0\n"
          ],
          "name": "stdout"
        }
      ]
    },
    {
      "cell_type": "markdown",
      "metadata": {
        "id": "mMzYfp-xK3WQ",
        "colab_type": "text"
      },
      "source": [
        "**Put the hyperparameters at the top like this to make it easier to change and edit.**"
      ]
    },
    {
      "cell_type": "code",
      "metadata": {
        "id": "gEcvjiLLLdBH",
        "colab_type": "code",
        "colab": {}
      },
      "source": [
        "# The maximum number of words to be used. (most frequent)\n",
        "vocab_size = 50000\n",
        "\n",
        "# Dimension of the dense embedding.\n",
        "embedding_dim = 128\n",
        "\n",
        "# Max number of words in each complaint.\n",
        "max_length = 200\n",
        "\n",
        "# Truncate and padding options\n",
        "trunc_type = 'post'\n",
        "padding_type = 'post'\n",
        "oov_tok = '<OOV>'"
      ],
      "execution_count": 0,
      "outputs": []
    },
    {
      "cell_type": "markdown",
      "metadata": {
        "id": "AcPNeWFAKzT0",
        "colab_type": "text"
      },
      "source": [
        "### **Text pre-processing**"
      ]
    },
    {
      "cell_type": "code",
      "metadata": {
        "id": "mH6hkGXBkT1-",
        "colab_type": "code",
        "outputId": "5f4ec762-b816-4658-8b85-14a7a58ab369",
        "colab": {
          "base_uri": "https://localhost:8080/",
          "height": 204
        }
      },
      "source": [
        "# Import the datatset\n",
        "dataset = pd.read_csv('drive/My Drive/Colab Notebooks/Multiclass-CustComp-Tensorflow/Consumer_Complaints.csv')\n",
        "\n",
        "# Select only the Product and Consumer Complaint columns  \n",
        "col = ['Product', 'Consumer Complaint']\n",
        "dataset= dataset[col]\n",
        "\n",
        "# Drop rows with missing labels\n",
        "dataset.dropna(subset=[\"Consumer Complaint\"], inplace=True)\n",
        "\n",
        "# Rename column\n",
        "dataset.columns=['Product', 'ConsumerComplaint'] \n",
        "\n",
        "# Only include the following products\n",
        "dataset=dataset[dataset['Product'].isin(['Credit reporting', \n",
        "                                         'Debt collection', \n",
        "                                         'Mortgage', \n",
        "                                         'Credit Card',\n",
        "                                         'Student loan',\n",
        "                                         'Bank account or service'])]\n",
        "\n",
        "# Print the top\n",
        "dataset.head()\n"
      ],
      "execution_count": 147,
      "outputs": [
        {
          "output_type": "execute_result",
          "data": {
            "text/html": [
              "<div>\n",
              "<style scoped>\n",
              "    .dataframe tbody tr th:only-of-type {\n",
              "        vertical-align: middle;\n",
              "    }\n",
              "\n",
              "    .dataframe tbody tr th {\n",
              "        vertical-align: top;\n",
              "    }\n",
              "\n",
              "    .dataframe thead th {\n",
              "        text-align: right;\n",
              "    }\n",
              "</style>\n",
              "<table border=\"1\" class=\"dataframe\">\n",
              "  <thead>\n",
              "    <tr style=\"text-align: right;\">\n",
              "      <th></th>\n",
              "      <th>Product</th>\n",
              "      <th>ConsumerComplaint</th>\n",
              "    </tr>\n",
              "  </thead>\n",
              "  <tbody>\n",
              "    <tr>\n",
              "      <th>1</th>\n",
              "      <td>Credit reporting</td>\n",
              "      <td>I have outdated information on my credit repor...</td>\n",
              "    </tr>\n",
              "    <tr>\n",
              "      <th>7</th>\n",
              "      <td>Credit reporting</td>\n",
              "      <td>An account on my credit report has a mistaken ...</td>\n",
              "    </tr>\n",
              "    <tr>\n",
              "      <th>12</th>\n",
              "      <td>Debt collection</td>\n",
              "      <td>This company refuses to provide me verificatio...</td>\n",
              "    </tr>\n",
              "    <tr>\n",
              "      <th>16</th>\n",
              "      <td>Debt collection</td>\n",
              "      <td>This complaint is in regards to Square Two Fin...</td>\n",
              "    </tr>\n",
              "    <tr>\n",
              "      <th>25</th>\n",
              "      <td>Mortgage</td>\n",
              "      <td>Started the refinance of home mortgage process...</td>\n",
              "    </tr>\n",
              "  </tbody>\n",
              "</table>\n",
              "</div>"
            ],
            "text/plain": [
              "             Product                                  ConsumerComplaint\n",
              "1   Credit reporting  I have outdated information on my credit repor...\n",
              "7   Credit reporting  An account on my credit report has a mistaken ...\n",
              "12   Debt collection  This company refuses to provide me verificatio...\n",
              "16   Debt collection  This complaint is in regards to Square Two Fin...\n",
              "25          Mortgage  Started the refinance of home mortgage process..."
            ]
          },
          "metadata": {
            "tags": []
          },
          "execution_count": 147
        }
      ]
    },
    {
      "cell_type": "code",
      "metadata": {
        "id": "lnlbTNI-HUlt",
        "colab_type": "code",
        "outputId": "2ffd60fb-b6f0-4233-ef99-6cd036ec3dc7",
        "colab": {
          "base_uri": "https://localhost:8080/",
          "height": 170
        }
      },
      "source": [
        "dataset.info()"
      ],
      "execution_count": 148,
      "outputs": [
        {
          "output_type": "stream",
          "text": [
            "<class 'pandas.core.frame.DataFrame'>\n",
            "Int64Index: 1651 entries, 1 to 9998\n",
            "Data columns (total 2 columns):\n",
            " #   Column             Non-Null Count  Dtype \n",
            "---  ------             --------------  ----- \n",
            " 0   Product            1651 non-null   object\n",
            " 1   ConsumerComplaint  1651 non-null   object\n",
            "dtypes: object(2)\n",
            "memory usage: 38.7+ KB\n"
          ],
          "name": "stdout"
        }
      ]
    },
    {
      "cell_type": "code",
      "metadata": {
        "id": "Vw5LxxR9G5Y3",
        "colab_type": "code",
        "outputId": "67b6273d-1e2e-47d2-92af-c6937a9901e2",
        "colab": {
          "base_uri": "https://localhost:8080/",
          "height": 119
        }
      },
      "source": [
        "dataset.Product.value_counts()"
      ],
      "execution_count": 149,
      "outputs": [
        {
          "output_type": "execute_result",
          "data": {
            "text/plain": [
              "Debt collection            519\n",
              "Mortgage                   407\n",
              "Credit reporting           395\n",
              "Bank account or service    185\n",
              "Student loan               145\n",
              "Name: Product, dtype: int64"
            ]
          },
          "metadata": {
            "tags": []
          },
          "execution_count": 149
        }
      ]
    },
    {
      "cell_type": "code",
      "metadata": {
        "id": "m_6xC1qCA9-k",
        "colab_type": "code",
        "outputId": "9dfc2b1c-0b5e-4e1e-dc06-5ea8850640ec",
        "colab": {
          "base_uri": "https://localhost:8080/",
          "height": 54
        }
      },
      "source": [
        "# How clean is the text now?\n",
        "print(dataset[\"ConsumerComplaint\"].to_list()[:3])\n",
        "original_text = dataset[\"ConsumerComplaint\"].to_list()"
      ],
      "execution_count": 150,
      "outputs": [
        {
          "output_type": "stream",
          "text": [
            "['I have outdated information on my credit report that I have previously disputed that has yet to be removed this information is more then seven years old and does not meet credit reporting requirements', 'An account on my credit report has a mistaken date. I mailed in a debt validation letter to allow XXXX to correct the information. I received a letter in the mail, stating that Experian received my correspondence and found it to be \" suspicious \\'\\' and that \" I did n\\'t write it \\'\\'. Experian \\'s letter is worded to imply that I am incapable of writing my own letter. I was deeply offended by this implication. \\nI called Experian to figure out why my letter was so suspicious. I spoke to a representative who was incredibly unhelpful, She did not effectively answer any questions I asked of her, and she kept ignoring what I was saying regarding the offensive letter and my dispute process. I feel the representative did what she wanted to do, and I am not satisfied. It is STILL not clear to me why I received this letter. I typed this letter, I signed this letter, and I paid to mail this letter, yet Experian willfully disregarded my lawful request. \\nI am disgusted with this entire situation, and I would like for my dispute to be handled appropriately, and I would like for an Experian representative to contact me and give me a real explanation for this letter.', 'This company refuses to provide me verification and validation of debt per my right under the FDCPA. I do not believe this debt is mine.']\n"
          ],
          "name": "stdout"
        }
      ]
    },
    {
      "cell_type": "markdown",
      "metadata": {
        "id": "PzgzPOFBMz15",
        "colab_type": "text"
      },
      "source": [
        "**Run data through cleanup**"
      ]
    },
    {
      "cell_type": "code",
      "metadata": {
        "id": "vhRmE4NsBEi7",
        "colab_type": "code",
        "outputId": "e25ab9bc-be97-4174-8b2b-881e81ed636c",
        "colab": {
          "base_uri": "https://localhost:8080/",
          "height": 122
        }
      },
      "source": [
        "# Lets do some text cleanup\n",
        "stemmer = PorterStemmer()\n",
        "\n",
        "REPLACE_BY_SPACE_RE = re.compile('[/(){}\\[\\]\\|@,;]')\n",
        "BAD_SYMBOLS_RE = re.compile('[^0-9a-z #+_]')\n",
        "REMOVE_NUM = re.compile('[\\d+]')\n",
        "STOPWORDS = set(stopwords.words('english'))\n",
        "\n",
        "def clean_text(text):\n",
        "    \"\"\"\n",
        "    text: a string\n",
        "    return: modified initial string\n",
        "    \"\"\"\n",
        "    # lowercase text\n",
        "    text = text.lower() \n",
        "\n",
        "    # replace REPLACE_BY_SPACE_RE symbols by space in text\n",
        "    text = REPLACE_BY_SPACE_RE.sub(' ', text) \n",
        "    \n",
        "    # Remove the XXXX values\n",
        "    text = text.replace('x', '') \n",
        "    \n",
        "    # Remove white space\n",
        "    text = REMOVE_NUM.sub('', text)\n",
        "\n",
        "    #  delete symbols which are in BAD_SYMBOLS_RE from text\n",
        "    text = BAD_SYMBOLS_RE.sub('', text) \n",
        "\n",
        "    # delete stopwords from text\n",
        "    text = ' '.join(word for word in text.split() if word not in STOPWORDS) \n",
        "    \n",
        "    # removes any words composed of less than 2 or more than 21 letters\n",
        "    text = ' '.join(word for word in text.split() if (len(word) >= 2 and len(word) <= 21))\n",
        "\n",
        "    # Stemming the words\n",
        "    text = ' '.join([stemmer.stem(word) for word in text.split()])\n",
        "    \n",
        "    return text\n",
        "    \n",
        "dataset[\"ConsumerComplaint\"] = dataset[\"ConsumerComplaint\"].apply(clean_text)\n",
        "\n",
        "# How clean is the text now?\n",
        "dataset[\"ConsumerComplaint\"].to_list()[:5]"
      ],
      "execution_count": 121,
      "outputs": [
        {
          "output_type": "execute_result",
          "data": {
            "text/plain": [
              "['outdat inform credit report previous disput yet remov inform seven year old meet credit report requir',\n",
              " 'account credit report mistaken date mail debt valid letter allow correct inform receiv letter mail state eperian receiv correspond found suspici nt write eperian letter word impli incap write letter deepli offend implic call eperian figur letter suspici spoke repres incred unhelp effect answer question ask kept ignor say regard offens letter disput process feel repres want satisfi still clear receiv letter type letter sign letter paid mail letter yet eperian will disregard law request disgust entir situat would like disput handl appropri would like eperian repres contact give real eplan letter',\n",
              " 'compani refus provid verif valid debt per right fdcpa believ debt mine',\n",
              " 'complaint regard squar two financi refer cfpb case number regard cach squar two financi util entir social secur number includ date birth pfd document list complaint initi complaint cach squar two financi breach follow ident theft assumpt deterr act privaci act social secur privaci actwhich carri maimum fine calendar cap year breach titl solut cach llc handl correct squar two financi two squar financi submit subscrib name form list cfpb case render liabl matter addit account number associ univers data form could use account number instead ssn dob also includ remov form cfpb case list pdf document attach case number squar two financi contact email regard matter addit inform sale distribut via fa fascan copi store retriev system record transmit digit electron without epress written consent inform protect copyright publish law inform protect freedom speech includ uniform commerci code right reserv world wide',\n",
              " 'start refin home mortgag process cash option necessari document submit initi review got good faith estim loan amount close cost base estim deposit made toward apprais apprais came lesser amount agre reduc loan amount etent howev got revis estim less addit close cost toward point etc got numer revis estim differ loan amount close cost took month reach definit close document henc want get back deposit']"
            ]
          },
          "metadata": {
            "tags": []
          },
          "execution_count": 121
        }
      ]
    },
    {
      "cell_type": "code",
      "metadata": {
        "id": "_Pj2kf4fCnEd",
        "colab_type": "code",
        "outputId": "bad80eed-18d2-4873-eb00-69e92e9fc700",
        "colab": {
          "base_uri": "https://localhost:8080/",
          "height": 34
        }
      },
      "source": [
        "# How many words do we have now?\n",
        "dataset[\"ConsumerComplaint\"].apply(lambda x: len(x.split(' '))).sum()"
      ],
      "execution_count": 122,
      "outputs": [
        {
          "output_type": "execute_result",
          "data": {
            "text/plain": [
              "135759"
            ]
          },
          "metadata": {
            "tags": []
          },
          "execution_count": 122
        }
      ]
    },
    {
      "cell_type": "code",
      "metadata": {
        "id": "xGKW4PeTNZ37",
        "colab_type": "code",
        "colab": {
          "base_uri": "https://localhost:8080/",
          "height": 204
        },
        "outputId": "381fb0c5-06f8-44d5-c91a-b416c0132d21"
      },
      "source": [
        "# Shuffel the dataset to make sure we get an equal distribution of the data before splitting into train and test sets\n",
        "dataset = dataset.sample(frac=1)\n",
        "dataset.head()"
      ],
      "execution_count": 123,
      "outputs": [
        {
          "output_type": "execute_result",
          "data": {
            "text/html": [
              "<div>\n",
              "<style scoped>\n",
              "    .dataframe tbody tr th:only-of-type {\n",
              "        vertical-align: middle;\n",
              "    }\n",
              "\n",
              "    .dataframe tbody tr th {\n",
              "        vertical-align: top;\n",
              "    }\n",
              "\n",
              "    .dataframe thead th {\n",
              "        text-align: right;\n",
              "    }\n",
              "</style>\n",
              "<table border=\"1\" class=\"dataframe\">\n",
              "  <thead>\n",
              "    <tr style=\"text-align: right;\">\n",
              "      <th></th>\n",
              "      <th>Product</th>\n",
              "      <th>ConsumerComplaint</th>\n",
              "    </tr>\n",
              "  </thead>\n",
              "  <tbody>\n",
              "    <tr>\n",
              "      <th>2282</th>\n",
              "      <td>Mortgage</td>\n",
              "      <td>tri modifi mortgag thru chase past year take l...</td>\n",
              "    </tr>\n",
              "    <tr>\n",
              "      <th>8498</th>\n",
              "      <td>Mortgage</td>\n",
              "      <td>start refin applic quicken id decid continu no...</td>\n",
              "    </tr>\n",
              "    <tr>\n",
              "      <th>932</th>\n",
              "      <td>Credit reporting</td>\n",
              "      <td>day ago sent disput transunion via certifi mai...</td>\n",
              "    </tr>\n",
              "    <tr>\n",
              "      <th>2412</th>\n",
              "      <td>Credit reporting</td>\n",
              "      <td>account year old credit compani still show bad...</td>\n",
              "    </tr>\n",
              "    <tr>\n",
              "      <th>4029</th>\n",
              "      <td>Mortgage</td>\n",
              "      <td>primari resid mortgag loan origin servic natio...</td>\n",
              "    </tr>\n",
              "  </tbody>\n",
              "</table>\n",
              "</div>"
            ],
            "text/plain": [
              "               Product                                  ConsumerComplaint\n",
              "2282          Mortgage  tri modifi mortgag thru chase past year take l...\n",
              "8498          Mortgage  start refin applic quicken id decid continu no...\n",
              "932   Credit reporting  day ago sent disput transunion via certifi mai...\n",
              "2412  Credit reporting  account year old credit compani still show bad...\n",
              "4029          Mortgage  primari resid mortgag loan origin servic natio..."
            ]
          },
          "metadata": {
            "tags": []
          },
          "execution_count": 123
        }
      ]
    },
    {
      "cell_type": "code",
      "metadata": {
        "id": "rPRNJWp6He6Z",
        "colab_type": "code",
        "outputId": "7a631181-bb26-48e8-9f12-d1fbf6b026be",
        "colab": {
          "base_uri": "https://localhost:8080/",
          "height": 369
        }
      },
      "source": [
        "# Plot the data\n",
        "\n",
        "sns.set_style('whitegrid')\n",
        "plt.figure(figsize=(6, 5))\n",
        "ax = sns.countplot(x='Product', data=dataset)\n",
        "ax.set_xticklabels(ax.get_xticklabels(), rotation=40, ha=\"right\")\n",
        "plt.tight_layout()"
      ],
      "execution_count": 124,
      "outputs": [
        {
          "output_type": "display_data",
          "data": {
            "image/png": "[encoded data removed]",
            "text/plain": [
              "<Figure size 432x360 with 1 Axes>"
            ]
          },
          "metadata": {
            "tags": []
          }
        }
      ]
    },
    {
      "cell_type": "markdown",
      "metadata": {
        "id": "K4wcEKgYNgM3",
        "colab_type": "text"
      },
      "source": [
        "**Split the data into training and test sets**"
      ]
    },
    {
      "cell_type": "code",
      "metadata": {
        "id": "8VZsEYUKkRGD",
        "colab_type": "code",
        "outputId": "6eb67730-733e-4406-f3eb-4c4361fe91d2",
        "colab": {
          "base_uri": "https://localhost:8080/",
          "height": 51
        }
      },
      "source": [
        "# Split into X/y\n",
        "\n",
        "complaints = dataset[\"ConsumerComplaint\"].values\n",
        "labels = dataset[[\"Product\"]].values\n",
        "\n",
        "X_train, y_train, X_test, y_test = train_test_split(complaints,labels, test_size = 0.20, random_state = 42)\n",
        "print(X_train.shape,X_test.shape)\n",
        "print(y_train.shape,y_test.shape)\n"
      ],
      "execution_count": 125,
      "outputs": [
        {
          "output_type": "stream",
          "text": [
            "(1320,) (1320, 1)\n",
            "(331,) (331, 1)\n"
          ],
          "name": "stdout"
        }
      ]
    },
    {
      "cell_type": "markdown",
      "metadata": {
        "id": "6M8mGiVpN_X0",
        "colab_type": "text"
      },
      "source": [
        "**Vectorize a text corpus**\n",
        "\n",
        "1. **fit_on_texts** Updates internal vocabulary based on a list of texts. This method creates the vocabulary index based on word frequency. So if you give it something like, \"The cat sat on the mat.\" It will create a dictionary s.t. word_index[\"the\"] = 1; word_index[\"cat\"] = 2 it is word -> index dictionary so every word gets a unique integer value. 0 is reserved for padding. So lower integer means more frequent word (often the first few are stop words because they appear a lot).\n",
        "2. **texts_to_sequences** Transforms each text in texts to a sequence of integers. So it basically takes each word in the text and replaces it with its corresponding integer value from the word_index dictionary. Nothing more, nothing less, certainly no magic involved.  \n",
        "\n",
        "Why don't combine them? Because you almost always fit once and convert to sequences many times. You will fit on your training corpus once and use that exact same word_index dictionary at train / eval / testing / prediction time to convert actual text into sequences to feed them to the network. So it makes sense to keep those methods separate"
      ]
    },
    {
      "cell_type": "code",
      "metadata": {
        "id": "t-ExkBNw-nor",
        "colab_type": "code",
        "colab": {
          "base_uri": "https://localhost:8080/",
          "height": 204
        },
        "outputId": "f99e73db-975f-45af-c5a0-e19b5a9b58b5"
      },
      "source": [
        "tokenizer = Tokenizer(num_words=vocab_size, oov_token='<OOV>')\n",
        "tokenizer.fit_on_texts(X_train)\n",
        "word_index = tokenizer.word_index\n",
        "print('Found %s unique tokens.' % len(word_index))\n",
        "dict(list(word_index.items())[0:10])"
      ],
      "execution_count": 126,
      "outputs": [
        {
          "output_type": "stream",
          "text": [
            "Found 5047 unique tokens.\n"
          ],
          "name": "stdout"
        },
        {
          "output_type": "execute_result",
          "data": {
            "text/plain": [
              "{'<OOV>': 1,\n",
              " 'account': 2,\n",
              " 'call': 7,\n",
              " 'credit': 3,\n",
              " 'debt': 9,\n",
              " 'inform': 8,\n",
              " 'loan': 6,\n",
              " 'payment': 5,\n",
              " 'receiv': 10,\n",
              " 'report': 4}"
            ]
          },
          "metadata": {
            "tags": []
          },
          "execution_count": 126
        }
      ]
    },
    {
      "cell_type": "code",
      "metadata": {
        "id": "T65cF2t2MbA3",
        "colab_type": "code",
        "outputId": "97646e56-f58f-47fc-97f6-0c63e0720fee",
        "colab": {
          "base_uri": "https://localhost:8080/",
          "height": 51
        }
      },
      "source": [
        "train_seq = tokenizer.texts_to_sequences(X_train)\n",
        "train_padded = pad_sequences(train_seq, maxlen=max_length, padding=padding_type, truncating=trunc_type)\n",
        "\n",
        "validation_seq = tokenizer.texts_to_sequences(y_train)\n",
        "validation_padded = pad_sequences(validation_seq, maxlen=max_length, padding=padding_type, truncating=trunc_type)\n",
        "print('Shape of data tensor:', train_padded.shape)\n",
        "print('Shape of data tensor:', validation_padded.shape)"
      ],
      "execution_count": 127,
      "outputs": [
        {
          "output_type": "stream",
          "text": [
            "Shape of data tensor: (1320, 200)\n",
            "Shape of data tensor: (331, 200)\n"
          ],
          "name": "stdout"
        }
      ]
    },
    {
      "cell_type": "markdown",
      "metadata": {
        "id": "eF77zWd4OYLc",
        "colab_type": "text"
      },
      "source": [
        "**One Hot Encode the labals**"
      ]
    },
    {
      "cell_type": "code",
      "metadata": {
        "id": "NK_IbjQ-oZuN",
        "colab_type": "code",
        "outputId": "d38258d3-f169-41df-faba-e5005769fcad",
        "colab": {
          "base_uri": "https://localhost:8080/",
          "height": 85
        }
      },
      "source": [
        "encode = OneHotEncoder()\n",
        "\n",
        "training_labels = encode.fit_transform(X_test)\n",
        "validation_labels = encode.transform(y_test)\n",
        "\n",
        "# Check categories\n",
        "print(encode.categories_)\n",
        "print(encode.inverse_transform([[0.11397464,0.18473952,0.28436756,0.40149176,0.01542656]]))\n",
        "\n",
        "print(validation_labels.toarray()[1])"
      ],
      "execution_count": 128,
      "outputs": [
        {
          "output_type": "stream",
          "text": [
            "[array(['Bank account or service', 'Credit reporting', 'Debt collection',\n",
            "       'Mortgage', 'Student loan'], dtype=object)]\n",
            "[['Mortgage']]\n",
            "[1. 0. 0. 0. 0.]\n"
          ],
          "name": "stdout"
        }
      ]
    },
    {
      "cell_type": "code",
      "metadata": {
        "id": "5xaJywzsClwB",
        "colab_type": "code",
        "colab": {
          "base_uri": "https://localhost:8080/",
          "height": 153
        },
        "outputId": "8db7aa95-1a34-4cab-9254-7146aab45d1c"
      },
      "source": [
        "# Check the same of the data\n",
        "print(train_padded.shape)\n",
        "print(validation_labels.shape)\n",
        "print(validation_padded.shape)\n",
        "print(training_labels.shape)\n",
        "print(type(train_padded))\n",
        "print(type(validation_padded))\n",
        "print(type(training_labels))\n",
        "print(type(validation_labels))\n"
      ],
      "execution_count": 129,
      "outputs": [
        {
          "output_type": "stream",
          "text": [
            "(1320, 200)\n",
            "(331, 5)\n",
            "(331, 200)\n",
            "(1320, 5)\n",
            "<class 'numpy.ndarray'>\n",
            "<class 'numpy.ndarray'>\n",
            "<class 'scipy.sparse.csr.csr_matrix'>\n",
            "<class 'scipy.sparse.csr.csr_matrix'>\n"
          ],
          "name": "stdout"
        }
      ]
    },
    {
      "cell_type": "code",
      "metadata": {
        "id": "G_F7i3JWPCLG",
        "colab_type": "code",
        "colab": {
          "base_uri": "https://localhost:8080/",
          "height": 51
        },
        "outputId": "c94b0f7a-f7e4-4595-d52d-36f84f2aadce"
      },
      "source": [
        "# The labels must be converted to arrays\n",
        "\n",
        "# Convert the labels to arrays\n",
        "training_labels = training_labels.toarray()\n",
        "validation_labels = validation_labels.toarray()\n",
        "\n",
        "print(type(training_labels))\n",
        "print(type(validation_labels))"
      ],
      "execution_count": 130,
      "outputs": [
        {
          "output_type": "stream",
          "text": [
            "<class 'numpy.ndarray'>\n",
            "<class 'numpy.ndarray'>\n"
          ],
          "name": "stdout"
        }
      ]
    },
    {
      "cell_type": "code",
      "metadata": {
        "id": "Tda4XHjIJffQ",
        "colab_type": "code",
        "colab": {}
      },
      "source": [
        "# Reduce learning rate when a metric has stopped improving.\n",
        "reduce_lr = ReduceLROnPlateau(monitor='val_loss', factor=0.2,\n",
        "                              patience=5, min_lr=0.0001)"
      ],
      "execution_count": 0,
      "outputs": []
    },
    {
      "cell_type": "markdown",
      "metadata": {
        "id": "SaF9Aes8Pzhm",
        "colab_type": "text"
      },
      "source": [
        "**Build the Model**"
      ]
    },
    {
      "cell_type": "code",
      "metadata": {
        "id": "01KYLzMCG0D9",
        "colab_type": "code",
        "outputId": "af947be9-2025-4c25-87df-f1c1b34bda5b",
        "colab": {
          "base_uri": "https://localhost:8080/",
          "height": 816
        }
      },
      "source": [
        "model = Sequential()\n",
        "model.add(Embedding(vocab_size, embedding_dim, input_length=train_padded.shape[1]))\n",
        "\n",
        "model.add(Conv1D(48, 5, activation='relu', padding='valid'))\n",
        "model.add(GlobalMaxPooling1D())\n",
        "model.add(Dropout(0.5))\n",
        "\n",
        "model.add(Flatten())\n",
        "model.add(Dropout(0.5))\n",
        "\n",
        "model.add(Dense(5, activation='softmax'))\n",
        "model.compile(loss='categorical_crossentropy', optimizer='adam', metrics=['accuracy'])\n",
        "\n",
        "epochs = 100\n",
        "batch_size = 32\n",
        "\n",
        "history = model.fit(train_padded, training_labels, shuffle=True ,\n",
        "                    epochs=epochs, batch_size=batch_size, \n",
        "                    validation_split=0.2,\n",
        "                    callbacks=[ReduceLROnPlateau(monitor='val_loss', factor=0.2, patience=5, min_lr=0.0001), \n",
        "                               EarlyStopping(monitor='val_loss', mode='min', patience=2, verbose=1),\n",
        "                               EarlyStopping(monitor='val_accuracy', mode='max', patience=5, verbose=1)])"
      ],
      "execution_count": 132,
      "outputs": [
        {
          "output_type": "stream",
          "text": [
            "Epoch 1/100\n",
            "33/33 [==============================] - 4s 111ms/step - loss: 1.5768 - accuracy: 0.2547 - val_loss: 1.4847 - val_accuracy: 0.4053 - lr: 0.0010\n",
            "Epoch 2/100\n",
            "33/33 [==============================] - 3s 106ms/step - loss: 1.4622 - accuracy: 0.3807 - val_loss: 1.3967 - val_accuracy: 0.4659 - lr: 0.0010\n",
            "Epoch 3/100\n",
            "33/33 [==============================] - 3s 106ms/step - loss: 1.3571 - accuracy: 0.4820 - val_loss: 1.2712 - val_accuracy: 0.6174 - lr: 0.0010\n",
            "Epoch 4/100\n",
            "33/33 [==============================] - 4s 106ms/step - loss: 1.2079 - accuracy: 0.5710 - val_loss: 1.1021 - val_accuracy: 0.6288 - lr: 0.0010\n",
            "Epoch 5/100\n",
            "33/33 [==============================] - 4s 107ms/step - loss: 1.0908 - accuracy: 0.6449 - val_loss: 0.9476 - val_accuracy: 0.6364 - lr: 0.0010\n",
            "Epoch 6/100\n",
            "33/33 [==============================] - 4s 107ms/step - loss: 0.9656 - accuracy: 0.6866 - val_loss: 0.8512 - val_accuracy: 0.6970 - lr: 0.0010\n",
            "Epoch 7/100\n",
            "33/33 [==============================] - 3s 106ms/step - loss: 0.8789 - accuracy: 0.7225 - val_loss: 0.7692 - val_accuracy: 0.7462 - lr: 0.0010\n",
            "Epoch 8/100\n",
            "33/33 [==============================] - 3s 106ms/step - loss: 0.8128 - accuracy: 0.7377 - val_loss: 0.7085 - val_accuracy: 0.7841 - lr: 0.0010\n",
            "Epoch 9/100\n",
            "33/33 [==============================] - 4s 108ms/step - loss: 0.7010 - accuracy: 0.7812 - val_loss: 0.6312 - val_accuracy: 0.8295 - lr: 0.0010\n",
            "Epoch 10/100\n",
            "33/33 [==============================] - 3s 106ms/step - loss: 0.6793 - accuracy: 0.7860 - val_loss: 0.5757 - val_accuracy: 0.8523 - lr: 0.0010\n",
            "Epoch 11/100\n",
            "33/33 [==============================] - 3s 106ms/step - loss: 0.5839 - accuracy: 0.8295 - val_loss: 0.5479 - val_accuracy: 0.8485 - lr: 0.0010\n",
            "Epoch 12/100\n",
            "33/33 [==============================] - 4s 107ms/step - loss: 0.5573 - accuracy: 0.8400 - val_loss: 0.5208 - val_accuracy: 0.8788 - lr: 0.0010\n",
            "Epoch 13/100\n",
            "33/33 [==============================] - 4s 106ms/step - loss: 0.5167 - accuracy: 0.8551 - val_loss: 0.4902 - val_accuracy: 0.8788 - lr: 0.0010\n",
            "Epoch 14/100\n",
            "33/33 [==============================] - 3s 105ms/step - loss: 0.4948 - accuracy: 0.8513 - val_loss: 0.4694 - val_accuracy: 0.8788 - lr: 0.0010\n",
            "Epoch 15/100\n",
            "33/33 [==============================] - 3s 105ms/step - loss: 0.4180 - accuracy: 0.8864 - val_loss: 0.4394 - val_accuracy: 0.8902 - lr: 0.0010\n",
            "Epoch 16/100\n",
            "33/33 [==============================] - 3s 106ms/step - loss: 0.4172 - accuracy: 0.8741 - val_loss: 0.4189 - val_accuracy: 0.8902 - lr: 0.0010\n",
            "Epoch 17/100\n",
            "33/33 [==============================] - 3s 106ms/step - loss: 0.3935 - accuracy: 0.8883 - val_loss: 0.4164 - val_accuracy: 0.8864 - lr: 0.0010\n",
            "Epoch 18/100\n",
            "33/33 [==============================] - 4s 106ms/step - loss: 0.3751 - accuracy: 0.8968 - val_loss: 0.3978 - val_accuracy: 0.8939 - lr: 0.0010\n",
            "Epoch 19/100\n",
            "33/33 [==============================] - 3s 106ms/step - loss: 0.3572 - accuracy: 0.8949 - val_loss: 0.3977 - val_accuracy: 0.8864 - lr: 0.0010\n",
            "Epoch 20/100\n",
            "33/33 [==============================] - 3s 106ms/step - loss: 0.3040 - accuracy: 0.9119 - val_loss: 0.3944 - val_accuracy: 0.8826 - lr: 0.0010\n",
            "Epoch 21/100\n",
            "33/33 [==============================] - 4s 107ms/step - loss: 0.3120 - accuracy: 0.9176 - val_loss: 0.3840 - val_accuracy: 0.8826 - lr: 0.0010\n",
            "Epoch 22/100\n",
            "33/33 [==============================] - 3s 106ms/step - loss: 0.2601 - accuracy: 0.9337 - val_loss: 0.3718 - val_accuracy: 0.8864 - lr: 0.0010\n",
            "Epoch 23/100\n",
            "33/33 [==============================] - 3s 105ms/step - loss: 0.2710 - accuracy: 0.9205 - val_loss: 0.3587 - val_accuracy: 0.8902 - lr: 0.0010\n",
            "Epoch 00023: early stopping\n"
          ],
          "name": "stdout"
        }
      ]
    },
    {
      "cell_type": "markdown",
      "metadata": {
        "id": "PHLHpXUzP-wm",
        "colab_type": "text"
      },
      "source": [
        "**Plot the Model Loss and Accuracy for each epoch**"
      ]
    },
    {
      "cell_type": "code",
      "metadata": {
        "id": "o9VnGxG_PNvn",
        "colab_type": "code",
        "outputId": "5ab5647e-0ff5-4314-b3f6-468d916ec120",
        "colab": {
          "base_uri": "https://localhost:8080/",
          "height": 281
        }
      },
      "source": [
        "plt.title('Loss')\n",
        "plt.plot(history.history['loss'], label='train')\n",
        "plt.plot(history.history['val_loss'], label='test')\n",
        "plt.legend()\n",
        "plt.show();"
      ],
      "execution_count": 133,
      "outputs": [
        {
          "output_type": "display_data",
          "data": {
            "image/png": "[encoded data removed]",
            "text/plain": [
              "<Figure size 432x288 with 1 Axes>"
            ]
          },
          "metadata": {
            "tags": []
          }
        }
      ]
    },
    {
      "cell_type": "code",
      "metadata": {
        "id": "9jtGE5JePSSn",
        "colab_type": "code",
        "outputId": "7cd12ecf-8cd4-49a7-9f9c-63ffdc1cd398",
        "colab": {
          "base_uri": "https://localhost:8080/",
          "height": 281
        }
      },
      "source": [
        "plt.title('Accuracy')\n",
        "plt.plot(history.history['accuracy'], label='train')\n",
        "plt.plot(history.history['val_accuracy'], label='test')\n",
        "plt.legend()\n",
        "plt.show();"
      ],
      "execution_count": 134,
      "outputs": [
        {
          "output_type": "display_data",
          "data": {
            "image/png": "[encoded data removed]",
            "text/plain": [
              "<Figure size 432x288 with 1 Axes>"
            ]
          },
          "metadata": {
            "tags": []
          }
        }
      ]
    },
    {
      "cell_type": "markdown",
      "metadata": {
        "id": "tl8g_s29QSsy",
        "colab_type": "text"
      },
      "source": [
        "**Evaluating the model and make predictions**"
      ]
    },
    {
      "cell_type": "code",
      "metadata": {
        "id": "foC50oofQUgd",
        "colab_type": "code",
        "colab": {}
      },
      "source": [
        "# First we create an evaluation function to output all the needs metrics\n",
        "\n",
        "def evaluate_preds(y_true, y_preds):\n",
        "    \"\"\"\n",
        "    Performs evaluation comparison on y_true labels vs. y_pred labels\n",
        "    on a classification.\n",
        "    \"\"\"\n",
        "    accuracy = accuracy_score(y_true, y_preds)\n",
        "    precision = precision_score(y_true, y_preds, average='micro')\n",
        "    recall = recall_score(y_true, y_preds, average='micro')\n",
        "    f1 = f1_score(y_true, y_preds, average='micro')\n",
        "    metric_dict = {\"accuracy\": round(accuracy, 2),\n",
        "                   \"precision\": round(precision, 2),\n",
        "                   \"recall\": round(recall, 2),\n",
        "                   \"f1\": round(f1, 2)}\n",
        "    print(f\"Acc: {accuracy * 100:.2f}%\")\n",
        "    print(f\"Precision: {precision:.2f}\")\n",
        "    print(f\"Recall: {recall:.2f}\")\n",
        "    print(f\"F1 score: {f1:.2f}\")\n",
        "    \n",
        "    return metric_dict"
      ],
      "execution_count": 0,
      "outputs": []
    },
    {
      "cell_type": "code",
      "metadata": {
        "id": "T3r3SfR9Qezr",
        "colab_type": "code",
        "colab": {
          "base_uri": "https://localhost:8080/",
          "height": 102
        },
        "outputId": "4d61c18e-f711-42d1-87aa-caa1119cf85d"
      },
      "source": [
        "# Now we make predictions using the test data to see how the model performs\n",
        "\n",
        "predicted = model.predict(validation_padded)\n",
        "evaluate_preds(np.argmax(validation_labels, axis=1), np.argmax(predicted, axis=1))\n"
      ],
      "execution_count": 136,
      "outputs": [
        {
          "output_type": "stream",
          "text": [
            "Acc: 88.52%\n",
            "Precision: 0.89\n",
            "Recall: 0.89\n",
            "F1 score: 0.89\n"
          ],
          "name": "stdout"
        },
        {
          "output_type": "execute_result",
          "data": {
            "text/plain": [
              "{'accuracy': 0.89, 'f1': 0.89, 'precision': 0.89, 'recall': 0.89}"
            ]
          },
          "metadata": {
            "tags": []
          },
          "execution_count": 136
        }
      ]
    },
    {
      "cell_type": "code",
      "metadata": {
        "id": "EciDuodoSlph",
        "colab_type": "code",
        "colab": {
          "base_uri": "https://localhost:8080/",
          "height": 221
        },
        "outputId": "e0560d1c-f903-4f2e-a048-892272ab03fc"
      },
      "source": [
        "# Let's create a Classification report\n",
        "\n",
        "print(metrics.classification_report(np.argmax(validation_labels, axis=1), np.argmax(predicted, axis=1), \n",
        "                                    target_names=dataset['Product'].unique()))"
      ],
      "execution_count": 137,
      "outputs": [
        {
          "output_type": "stream",
          "text": [
            "                         precision    recall  f1-score   support\n",
            "\n",
            "               Mortgage       0.94      0.74      0.83        39\n",
            "       Credit reporting       0.92      0.78      0.84        76\n",
            "        Debt collection       0.82      0.97      0.89        99\n",
            "Bank account or service       0.90      0.98      0.94        84\n",
            "           Student loan       0.96      0.82      0.89        33\n",
            "\n",
            "               accuracy                           0.89       331\n",
            "              macro avg       0.91      0.86      0.88       331\n",
            "           weighted avg       0.89      0.89      0.88       331\n",
            "\n"
          ],
          "name": "stdout"
        }
      ]
    },
    {
      "cell_type": "markdown",
      "metadata": {
        "id": "UcxFWRjYT4Pn",
        "colab_type": "text"
      },
      "source": [
        "**And finally a Confusion Matrix**"
      ]
    },
    {
      "cell_type": "code",
      "metadata": {
        "id": "8iAEafyF-cLR",
        "colab_type": "code",
        "outputId": "9b5e18cd-6a6e-48ea-c278-eeb236e10196",
        "colab": {
          "base_uri": "https://localhost:8080/",
          "height": 498
        }
      },
      "source": [
        "conf_mat = confusion_matrix(np.argmax(validation_labels, axis=1), np.argmax(predicted, axis=1))\n",
        "fig, ax = plt.subplots(figsize=(8,6))\n",
        "sns.heatmap(conf_mat, annot=True, fmt='d',\n",
        "            xticklabels=dataset.Product.unique(), yticklabels=dataset.Product.unique())\n",
        "plt.ylabel('Actual')\n",
        "plt.xlabel('Predicted')\n",
        "plt.show()"
      ],
      "execution_count": 140,
      "outputs": [
        {
          "output_type": "display_data",
          "data": {
            "image/png": "[encoded data removed]",
            "text/plain": [
              "<Figure size 576x432 with 2 Axes>"
            ]
          },
          "metadata": {
            "tags": []
          }
        }
      ]
    },
    {
      "cell_type": "code",
      "metadata": {
        "id": "-3wrwXqSPVq-",
        "colab_type": "code",
        "outputId": "dc3a8e5d-ab6f-4eea-c048-3d118834739e",
        "colab": {
          "base_uri": "https://localhost:8080/",
          "height": 139
        }
      },
      "source": [
        "complaint = original_text[18]\n",
        "new_complaint = [clean_text(complaint)]\n",
        "print(complaint)\n",
        "print(new_complaint)\n",
        "seq = tokenizer.texts_to_sequences(new_complaint)\n",
        "padded = pad_sequences(seq, maxlen=max_length, padding=padding_type, truncating=trunc_type)\n",
        "pred = model.predict(padded)\n",
        "acc = model.predict_proba(padded)\n",
        "predicted_label = encode.inverse_transform(pred)\n",
        "print('')\n",
        "print(f'Product category id: {np.argmax(pred[0])}')\n",
        "print(f'Predicted label is: {predicted_label[0]}')\n",
        "print(f'Accuracy score: { acc.max() * 100}')"
      ],
      "execution_count": 141,
      "outputs": [
        {
          "output_type": "stream",
          "text": [
            "My identity was stolen. I filed a complaint, police report, affidavit, etc. I contacted the original company, and the collection agency to resolve this debt. Both of them keep sending me to each other, and neither will help in resolving this issue. I have spoken to supervisors at each company and still get the same answer- contact the other company. I want this debt removed from my credit, as it was fraudulent. The collection agency even offered to settle for {$300.00}! I am not paying a dime to a company I never had an account with!\n",
            "['ident stolen file complaint polic report affidavit etc contact origin compani collect agenc resolv debt keep send neither help resolv issu spoken supervisor compani still get answer contact compani want debt remov credit fraudul collect agenc even offer settl pay dime compani never account']\n",
            "\n",
            "Product category id: 2\n",
            "Predicted label is: ['Debt collection']\n",
            "Accuracy score: 97.91606068611145\n"
          ],
          "name": "stdout"
        }
      ]
    },
    {
      "cell_type": "code",
      "metadata": {
        "id": "VzOL2FL8Jtsu",
        "colab_type": "code",
        "colab": {}
      },
      "source": [
        ""
      ],
      "execution_count": 0,
      "outputs": []
    },
    {
      "cell_type": "code",
      "metadata": {
        "id": "5UlVF2sQ4UUA",
        "colab_type": "code",
        "colab": {}
      },
      "source": [
        ""
      ],
      "execution_count": 0,
      "outputs": []
    }
  ]
}